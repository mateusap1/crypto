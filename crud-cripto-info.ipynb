{
 "cells": [
  {
   "cell_type": "markdown",
   "metadata": {
    "_cell_guid": "b1076dfc-b9ad-4769-8c92-a6c4dae69d19",
    "_uuid": "8f2839f25d086af736a60e9eeb907d3b93b6e0e5"
   },
   "source": [
    "1. Estrutura do CRUD\n",
    "* Inserir o sentimento atribuído por um usuário à notícia.\n",
    "* Ler (listar) todas as notícias relacionadas a uma criptomoeda, incluindo o sentimento dos usuários.\n",
    "* Atualizar o sentimento de um usuário para uma notícia.\n",
    "* Excluir uma notícia e, consequentemente, os sentimentos relacionados."
   ]
  },
  {
   "cell_type": "code",
   "execution_count": 1,
   "metadata": {
    "trusted": true
   },
   "outputs": [],
   "source": [
    "import psycopg2\n",
    "from psycopg2 import sql\n",
    "\n",
    "def conectar():\n",
    "    return psycopg2.connect(\n",
    "        host=\"localhost\",  # Endereço do servidor do banco de dados\n",
    "        database=\"info_criptos\",  # Nome do banco de dados\n",
    "        user=\"postgres\",  # Usuário do banco de dados\n",
    "        password=\"corvinal\"  # Senha do usuário\n",
    "    )\n"
   ]
  },
  {
   "cell_type": "markdown",
   "metadata": {},
   "source": [
    "## 2. Função para Inserir Notícia"
   ]
  },
  {
   "cell_type": "code",
   "execution_count": 2,
   "metadata": {
    "trusted": true
   },
   "outputs": [],
   "source": [
    "def inserir_noticia(id_cripto, data_publicacao, tema, noticia, fonte):\n",
    "    conexao = conectar()\n",
    "    cursor = conexao.cursor()\n",
    "\n",
    "    try:\n",
    "        # Query para inserir notícia\n",
    "        query = \"\"\"\n",
    "        INSERT INTO Notícias (id_cripto, data_publicacao, tema, noticia, fonte)\n",
    "        VALUES (%s, %s, %s, %s, %s) RETURNING id_noticia;\n",
    "        \"\"\"\n",
    "        cursor.execute(query, (id_cripto, data_publicacao, tema, noticia, fonte))\n",
    "        id_noticia = cursor.fetchone()[0]\n",
    "        conexao.commit()\n",
    "        return id_noticia  # Retorna o ID da notícia recém-criada\n",
    "    except Exception as e:\n",
    "        conexao.rollback()\n",
    "        raise e\n",
    "    finally:\n",
    "        cursor.close()\n",
    "        conexao.close()\n"
   ]
  },
  {
   "cell_type": "markdown",
   "metadata": {},
   "source": [
    "## Função para Inserir Sentimento"
   ]
  },
  {
   "cell_type": "code",
   "execution_count": 3,
   "metadata": {
    "trusted": true
   },
   "outputs": [],
   "source": [
    "def inserir_sentimento(id_noticia, id_usuario, sentimento, score_sentimento):\n",
    "    conexao = conectar()\n",
    "    cursor = conexao.cursor()\n",
    "\n",
    "    try:\n",
    "        # Query para inserir sentimento\n",
    "        query = \"\"\"\n",
    "        INSERT INTO Sentimentos_Notícias (id_noticia, id_usuario, sentimento, score_sentimento)\n",
    "        VALUES (%s, %s, %s, %s);\n",
    "        \"\"\"\n",
    "        cursor.execute(query, (id_noticia, id_usuario, sentimento, score_sentimento))\n",
    "        conexao.commit()\n",
    "        return f\"Sentimento inserido para a notícia {id_noticia}.\"\n",
    "    except Exception as e:\n",
    "        conexao.rollback()\n",
    "        raise e\n",
    "    finally:\n",
    "        cursor.close()\n",
    "        conexao.close()\n"
   ]
  },
  {
   "cell_type": "markdown",
   "metadata": {},
   "source": [
    "## Função para Listar Notícias e Sentimentos"
   ]
  },
  {
   "cell_type": "code",
   "execution_count": 4,
   "metadata": {
    "trusted": true
   },
   "outputs": [],
   "source": [
    "def listar_noticias_por_criptomoeda(id_cripto):\n",
    "    conexao = conectar()\n",
    "    cursor = conexao.cursor()\n",
    "\n",
    "    try:\n",
    "        # Query para listar notícias e sentimentos\n",
    "        query = \"\"\"\n",
    "        SELECT N.id_noticia, N.tema, N.noticia, U.nome AS usuario, S.sentimento, S.score_sentimento\n",
    "        FROM Notícias N\n",
    "        JOIN Sentimentos_Notícias S ON N.id_noticia = S.id_noticia\n",
    "        JOIN Usuarios U ON S.id_usuario = U.id_usuario\n",
    "        WHERE N.id_cripto = %s;\n",
    "        \"\"\"\n",
    "        cursor.execute(query, (id_cripto,))\n",
    "        resultados = cursor.fetchall()\n",
    "\n",
    "        # Formatar resultados\n",
    "        noticias = []\n",
    "        for linha in resultados:\n",
    "            noticias.append({\n",
    "                \"id_noticia\": linha[0],\n",
    "                \"tema\": linha[1],\n",
    "                \"noticia\": linha[2],\n",
    "                \"usuario\": linha[3],\n",
    "                \"sentimento\": linha[4],\n",
    "                \"score_sentimento\": linha[5]\n",
    "            })\n",
    "        return noticias\n",
    "    except Exception as e:\n",
    "        raise e\n",
    "    finally:\n",
    "        cursor.close()\n",
    "        conexao.close()\n"
   ]
  },
  {
   "cell_type": "markdown",
   "metadata": {},
   "source": [
    "## Função para Atualizar Sentimento"
   ]
  },
  {
   "cell_type": "code",
   "execution_count": 5,
   "metadata": {
    "trusted": true
   },
   "outputs": [],
   "source": [
    "def atualizar_sentimento(id_noticia, id_usuario, novo_sentimento, novo_score):\n",
    "    conexao = conectar()\n",
    "    cursor = conexao.cursor()\n",
    "\n",
    "    try:\n",
    "        # Query para atualizar sentimento\n",
    "        query = \"\"\"\n",
    "        UPDATE Sentimentos_Notícias\n",
    "        SET sentimento = %s, score_sentimento = %s\n",
    "        WHERE id_noticia = %s AND id_usuario = %s;\n",
    "        \"\"\"\n",
    "        cursor.execute(query, (novo_sentimento, novo_score, id_noticia, id_usuario))\n",
    "        conexao.commit()\n",
    "        return f\"Sentimento atualizado para a notícia {id_noticia} pelo usuário {id_usuario}.\"\n",
    "    except Exception as e:\n",
    "        conexao.rollback()\n",
    "        raise e\n",
    "    finally:\n",
    "        cursor.close()\n",
    "        conexao.close()\n"
   ]
  },
  {
   "cell_type": "markdown",
   "metadata": {},
   "source": [
    "## Função para Excluir Notícia"
   ]
  },
  {
   "cell_type": "code",
   "execution_count": 6,
   "metadata": {
    "trusted": true
   },
   "outputs": [],
   "source": [
    "def excluir_noticia(id_noticia):\n",
    "    conexao = conectar()\n",
    "    cursor = conexao.cursor()\n",
    "\n",
    "    try:\n",
    "        # Excluir sentimentos relacionados\n",
    "        query_sentimentos = \"\"\"\n",
    "        DELETE FROM Sentimentos_Notícias WHERE id_noticia = %s;\n",
    "        \"\"\"\n",
    "        cursor.execute(query_sentimentos, (id_noticia,))\n",
    "\n",
    "        # Excluir notícia\n",
    "        query_noticia = \"\"\"\n",
    "        DELETE FROM Notícias WHERE id_noticia = %s;\n",
    "        \"\"\"\n",
    "        cursor.execute(query_noticia, (id_noticia,))\n",
    "        conexao.commit()\n",
    "        return f\"Notícia {id_noticia} e seus sentimentos relacionados foram excluídos.\"\n",
    "    except Exception as e:\n",
    "        conexao.rollback()\n",
    "        raise e\n",
    "    finally:\n",
    "        cursor.close()\n",
    "        conexao.close()\n"
   ]
  },
  {
   "cell_type": "markdown",
   "metadata": {},
   "source": [
    "## Inserir uma notícia e seu sentimento"
   ]
  },
  {
   "cell_type": "code",
   "execution_count": 7,
   "metadata": {
    "trusted": true
   },
   "outputs": [
    {
     "name": "stdout",
     "output_type": "stream",
     "text": [
      "Sentimento inserido para a notícia 6.\n"
     ]
    }
   ],
   "source": [
    "id_noticia = inserir_noticia(\n",
    "    id_cripto=1,\n",
    "    data_publicacao=\"2025-01-01\",\n",
    "    tema=\"Regulação\",\n",
    "    noticia=\"Bitcoin será regulamentado em breve.\",\n",
    "    fonte=\"CoinDesk\"\n",
    ")\n",
    "\n",
    "resultado_sentimento = inserir_sentimento(\n",
    "    id_noticia=id_noticia,\n",
    "    id_usuario=1,\n",
    "    sentimento=\"Positivo\",\n",
    "    score_sentimento=0.8\n",
    ")\n",
    "\n",
    "print(resultado_sentimento)\n"
   ]
  },
  {
   "cell_type": "markdown",
   "metadata": {},
   "source": [
    "## Listar notícias relacionadas a uma criptomoeda"
   ]
  },
  {
   "cell_type": "code",
   "execution_count": 12,
   "metadata": {
    "trusted": true
   },
   "outputs": [
    {
     "name": "stdout",
     "output_type": "stream",
     "text": [
      "{'id_noticia': 6, 'tema': 'Regulação', 'noticia': 'Bitcoin será regulamentado em breve.', 'usuario': 'João Silva', 'sentimento': 'Positivo', 'score_sentimento': Decimal('0.80')}\n"
     ]
    }
   ],
   "source": [
    "noticias = listar_noticias_por_criptomoeda(id_cripto=1)\n",
    "for noticia in noticias:\n",
    "    print(noticia)"
   ]
  },
  {
   "cell_type": "markdown",
   "metadata": {},
   "source": [
    "##  Atualizar o sentimento de uma notícia"
   ]
  },
  {
   "cell_type": "code",
   "execution_count": 9,
   "metadata": {
    "trusted": true
   },
   "outputs": [
    {
     "name": "stdout",
     "output_type": "stream",
     "text": [
      "Sentimento atualizado para a notícia 1 pelo usuário 1.\n"
     ]
    }
   ],
   "source": [
    "resultado = atualizar_sentimento(\n",
    "    id_noticia=1,\n",
    "    id_usuario=1,\n",
    "    novo_sentimento=\"Negativo\",\n",
    "    novo_score=-0.5\n",
    ")\n",
    "print(resultado)\n"
   ]
  },
  {
   "cell_type": "code",
   "execution_count": null,
   "metadata": {},
   "outputs": [],
   "source": [
    "noticias = listar_noticias_por_criptomoeda(id_cripto=1)\n",
    "for noticia in noticias:\n",
    "    print(noticia)"
   ]
  },
  {
   "cell_type": "markdown",
   "metadata": {},
   "source": [
    "## Excluir uma notícia"
   ]
  },
  {
   "cell_type": "code",
   "execution_count": 11,
   "metadata": {
    "trusted": true
   },
   "outputs": [
    {
     "name": "stdout",
     "output_type": "stream",
     "text": [
      "Notícia 1 e seus sentimentos relacionados foram excluídos.\n"
     ]
    }
   ],
   "source": [
    "resultado = excluir_noticia(id_noticia=1)\n",
    "print(resultado)"
   ]
  },
  {
   "cell_type": "code",
   "execution_count": null,
   "metadata": {},
   "outputs": [],
   "source": [
    "noticias = listar_noticias_por_criptomoeda(id_cripto=1)\n",
    "for noticia in noticias:\n",
    "    print(noticia)"
   ]
  },
  {
   "cell_type": "code",
   "execution_count": null,
   "metadata": {},
   "outputs": [],
   "source": []
  },
  {
   "cell_type": "markdown",
   "metadata": {},
   "source": [
    "## Create"
   ]
  },
  {
   "cell_type": "code",
   "execution_count": null,
   "metadata": {},
   "outputs": [],
   "source": [
    "\"\"\"-- Tabela Criptomoedas\n",
    "CREATE TABLE Criptomoedas (\n",
    "    id_cripto SERIAL PRIMARY KEY, -- Identificador único da criptomoeda\n",
    "    nome VARCHAR(50) NOT NULL, -- Nome da criptomoeda\n",
    "    simbolo VARCHAR(10) NOT NULL, -- Símbolo da criptomoeda (ex.: BTC, ETH)\n",
    "    descricao TEXT, -- Descrição da criptomoeda\n",
    "    mercado VARCHAR(50) -- Nome do mercado onde a criptomoeda é negociada\n",
    ");\n",
    "\n",
    "COMMENT ON TABLE Criptomoedas IS 'Tabela que armazena informações sobre criptomoedas, incluindo nome, símbolo e mercado de negociação.';\n",
    "COMMENT ON COLUMN Criptomoedas.id_cripto IS 'Identificador único da criptomoeda';\n",
    "COMMENT ON COLUMN Criptomoedas.nome IS 'Nome da criptomoeda';\n",
    "COMMENT ON COLUMN Criptomoedas.simbolo IS 'Símbolo da criptomoeda (ex.: BTC, ETH)';\n",
    "COMMENT ON COLUMN Criptomoedas.descricao IS 'Descrição da criptomoeda';\n",
    "COMMENT ON COLUMN Criptomoedas.mercado IS 'Nome do mercado onde a criptomoeda é negociada';\n",
    "\n",
    "-- Tabela Cotações\n",
    "CREATE TABLE Cotações (\n",
    "    id_cotacao SERIAL PRIMARY KEY, -- Identificador único da cotação\n",
    "    id_cripto INT REFERENCES Criptomoedas (id_cripto), -- Referência à criptomoeda\n",
    "    data_hora TIMESTAMP NOT NULL, -- Data e hora da cotação\n",
    "    preco DECIMAL(18, 8) NOT NULL, -- Preço da criptomoeda\n",
    "    volume DECIMAL(18, 2), -- Volume negociado\n",
    "    market_cap DECIMAL(18, 2), -- Capitalização de mercado\n",
    "    variacao DECIMAL(5, 2) -- Variação percentual do preço\n",
    ");\n",
    "\n",
    "COMMENT ON TABLE Cotações IS 'Tabela que armazena informações sobre cotações das criptomoedas, incluindo preço, volume e market cap.';\n",
    "COMMENT ON COLUMN Cotações.id_cotacao IS 'Identificador único da cotação';\n",
    "COMMENT ON COLUMN Cotações.id_cripto IS 'Referência à criptomoeda';\n",
    "COMMENT ON COLUMN Cotações.data_hora IS 'Data e hora da cotação';\n",
    "COMMENT ON COLUMN Cotações.preco IS 'Preço da criptomoeda';\n",
    "COMMENT ON COLUMN Cotações.volume IS 'Volume negociado';\n",
    "COMMENT ON COLUMN Cotações.market_cap IS 'Capitalização de mercado';\n",
    "COMMENT ON COLUMN Cotações.variacao IS 'Variação percentual do preço';\n",
    "\n",
    "-- Tabela Notícias\n",
    "CREATE TABLE Notícias (\n",
    "    id_noticia SERIAL PRIMARY KEY, -- Identificador único da notícia\n",
    "    id_cripto INT REFERENCES Criptomoedas (id_cripto), -- Referência à criptomoeda\n",
    "    data_publicacao DATE NOT NULL, -- Data de publicação da notícia\n",
    "    tema VARCHAR(50), -- Tema principal da notícia\n",
    "    noticia TEXT NOT NULL, -- Texto completo da notícia\n",
    "    fonte VARCHAR(100) -- Fonte da notícia (ex.: Bloomberg, CoinDesk)\n",
    ");\n",
    "\n",
    "COMMENT ON TABLE Notícias IS 'Tabela que armazena notícias relacionadas às criptomoedas.';\n",
    "COMMENT ON COLUMN Notícias.id_noticia IS 'Identificador único da notícia';\n",
    "COMMENT ON COLUMN Notícias.id_cripto IS 'Referência à criptomoeda';\n",
    "COMMENT ON COLUMN Notícias.data_publicacao IS 'Data de publicação da notícia';\n",
    "COMMENT ON COLUMN Notícias.tema IS 'Tema principal da notícia';\n",
    "COMMENT ON COLUMN Notícias.noticia IS 'Texto completo da notícia';\n",
    "COMMENT ON COLUMN Notícias.fonte IS 'Fonte da notícia (ex.: Bloomberg, CoinDesk)';\n",
    "\n",
    "-- Tabela Usuários\n",
    "CREATE TABLE Usuarios (\n",
    "    id_usuario SERIAL PRIMARY KEY, -- Identificador único do usuário\n",
    "    nome VARCHAR(100) NOT NULL, -- Nome do usuário\n",
    "    email VARCHAR(100) UNIQUE NOT NULL, -- Email do usuário (deve ser único)\n",
    "    senha VARCHAR(255) NOT NULL, -- Senha do usuário (criptografada)\n",
    "    admin_flag BOOLEAN DEFAULT FALSE -- Indica se o usuário é administrador\n",
    ");\n",
    "\n",
    "COMMENT ON TABLE Usuarios IS 'Tabela que registra os usuários do sistema, incluindo permissões administrativas.';\n",
    "COMMENT ON COLUMN Usuarios.id_usuario IS 'Identificador único do usuário';\n",
    "COMMENT ON COLUMN Usuarios.nome IS 'Nome do usuário';\n",
    "COMMENT ON COLUMN Usuarios.email IS 'Email do usuário (deve ser único)';\n",
    "COMMENT ON COLUMN Usuarios.senha IS 'Senha do usuário (criptografada)';\n",
    "COMMENT ON COLUMN Usuarios.admin_flag IS 'Indica se o usuário é administrador';\n",
    "\n",
    "\n",
    "-- Tabela Sentimentos de Notícias\n",
    "CREATE TABLE Sentimentos_Notícias (\n",
    "    id_sentimento SERIAL PRIMARY KEY, -- Identificador único do sentimento\n",
    "    id_noticia INT REFERENCES Notícias (id_noticia), -- Referência à notícia\n",
    "    id_usuario INT REFERENCES Usuarios (id_usuario), -- Referência ao usuário\n",
    "    sentimento VARCHAR(20), -- Classificação do sentimento (positivo, neutro, negativo)\n",
    "    score_sentimento DECIMAL(5, 2) -- Escore numérico do sentimento (-1 a 1)\n",
    ");\n",
    "\n",
    "COMMENT ON TABLE Sentimentos_Notícias IS 'Tabela que armazena os sentimentos associados às notícias sobre criptomoedas, incluindo quem atribuiu o sentimento.';\n",
    "COMMENT ON COLUMN Sentimentos_Notícias.id_sentimento IS 'Identificador único do sentimento';\n",
    "COMMENT ON COLUMN Sentimentos_Notícias.id_noticia IS 'Referência à notícia';\n",
    "COMMENT ON COLUMN Sentimentos_Notícias.id_usuario IS 'Referência ao usuário que atribuiu o sentimento';\n",
    "COMMENT ON COLUMN Sentimentos_Notícias.sentimento IS 'Classificação do sentimento (positivo, neutro, negativo)';\n",
    "COMMENT ON COLUMN Sentimentos_Notícias.score_sentimento IS 'Escore numérico do sentimento (-1 a 1)';\n",
    "\n",
    "-- Tabela Transações de Mercado\n",
    "CREATE TABLE Transações_Mercado (\n",
    "    id_transacao SERIAL PRIMARY KEY, -- Identificador único da transação\n",
    "    id_cripto INT REFERENCES Criptomoedas (id_cripto), -- Referência à criptomoeda\n",
    "    data_hora TIMESTAMP NOT NULL, -- Data e hora da transação\n",
    "    tipo VARCHAR(20) NOT NULL, -- Tipo da transação (compra, venda)\n",
    "    quantidade DECIMAL(18, 8) NOT NULL, -- Quantidade negociada\n",
    "    preco_unitario DECIMAL(18, 8) NOT NULL -- Preço unitário da criptomoeda\n",
    ");\n",
    "\n",
    "COMMENT ON TABLE Transações_Mercado IS 'Tabela que registra as transações realizadas no mercado de criptomoedas.';\n",
    "COMMENT ON COLUMN Transações_Mercado.id_transacao IS 'Identificador único da transação';\n",
    "COMMENT ON COLUMN Transações_Mercado.id_cripto IS 'Referência à criptomoeda';\n",
    "COMMENT ON COLUMN Transações_Mercado.data_hora IS 'Data e hora da transação';\n",
    "COMMENT ON COLUMN Transações_Mercado.tipo IS 'Tipo da transação (compra, venda)';\n",
    "COMMENT ON COLUMN Transações_Mercado.quantidade IS 'Quantidade negociada';\n",
    "COMMENT ON COLUMN Transações_Mercado.preco_unitario IS 'Preço unitário da criptomoeda';\n",
    "\n",
    "-- Tabela Ordens de Compra/Venda\n",
    "CREATE TABLE Ordens (\n",
    "    id_ordem SERIAL PRIMARY KEY, -- Identificador único da ordem\n",
    "    id_cripto INT REFERENCES Criptomoedas (id_cripto), -- Referência à criptomoeda\n",
    "    tipo VARCHAR(20) NOT NULL, -- Tipo da ordem (compra, venda)\n",
    "    quantidade DECIMAL(18, 8) NOT NULL, -- Quantidade desejada\n",
    "    preco_limite DECIMAL(18, 8) NOT NULL -- Preço limite da ordem\n",
    ");\n",
    "\n",
    "COMMENT ON TABLE Ordens IS 'Tabela que registra as ordens de compra ou venda de criptomoedas.';\n",
    "COMMENT ON COLUMN Ordens.id_ordem IS 'Identificador único da ordem';\n",
    "COMMENT ON COLUMN Ordens.id_cripto IS 'Referência à criptomoeda';\n",
    "COMMENT ON COLUMN Ordens.tipo IS 'Tipo da ordem (compra, venda)';\n",
    "COMMENT ON COLUMN Ordens.quantidade IS 'Quantidade desejada';\n",
    "COMMENT ON COLUMN Ordens.preco_limite IS 'Preço limite da ordem';\n",
    "\n",
    "-- Tabela Tendências de Preço\n",
    "CREATE TABLE Tendências_Preço (\n",
    "    id_tendencia SERIAL PRIMARY KEY, -- Identificador único da tendência\n",
    "    id_cripto INT REFERENCES Criptomoedas (id_cripto), -- Referência à criptomoeda\n",
    "    periodo VARCHAR(20), -- Período analisado (ex.: 24h, 7d)\n",
    "    variacao_preco DECIMAL(5, 2), -- Variação percentual do preço\n",
    "    tendencia VARCHAR(20) -- Classificação da tendência (alta, baixa, estável)\n",
    ");\n",
    "\n",
    "COMMENT ON TABLE Tendências_Preço IS 'Tabela que armazena informações sobre tendências de preços de criptomoedas.';\n",
    "COMMENT ON COLUMN Tendências_Preço.id_tendencia IS 'Identificador único da tendência';\n",
    "COMMENT ON COLUMN Tendências_Preço.id_cripto IS 'Referência à criptomoeda';\n",
    "COMMENT ON COLUMN Tendências_Preço.periodo IS 'Período analisado (ex.: 24h, 7d)';\n",
    "COMMENT ON COLUMN Tendências_Preço.variacao_preco IS 'Variação percentual do preço';\n",
    "COMMENT ON COLUMN Tendências_Preço.tendencia IS 'Classificação da tendência (alta, baixa, estável)';\n",
    "\n",
    "-- Tabela Dados Externos\n",
    "CREATE TABLE Dados_Externos (\n",
    "    id_dado SERIAL PRIMARY KEY, -- Identificador único do dado externo\n",
    "    descricao TEXT, -- Descrição do fator externo (ex.: taxa de juros)\n",
    "    data_hora TIMESTAMP NOT NULL, -- Data e hora da coleta\n",
    "    valor DECIMAL(18, 8) -- Valor do fator externo\n",
    ");\n",
    "\n",
    "COMMENT ON TABLE Dados_Externos IS 'Tabela que armazena dados externos que podem impactar o mercado de criptomoedas.';\n",
    "COMMENT ON COLUMN Dados_Externos.id_dado IS 'Identificador único do dado externo';\n",
    "COMMENT ON COLUMN Dados_Externos.descricao IS 'Descrição do fator externo (ex.: taxa de juros)';\n",
    "COMMENT ON COLUMN Dados_Externos.data_hora IS 'Data e hora da coleta';\n",
    "COMMENT ON COLUMN Dados_Externos.valor IS 'Valor do fator externo';\n",
    "\n",
    "-- Tabela Imagens de Criptomoedas\n",
    "CREATE TABLE Imagens_Criptomoedas (\n",
    "    id_imagem SERIAL PRIMARY KEY, -- Identificador único da imagem\n",
    "    id_cripto INT REFERENCES Criptomoedas (id_cripto), -- Referência à criptomoeda correspondente\n",
    "    tipo VARCHAR(50) NOT NULL, -- Tipo da imagem (ex.: logo, ícone)\n",
    "    conteudo BYTEA NOT NULL, -- Conteúdo da imagem armazenado como binário\n",
    "    data_upload TIMESTAMP NOT NULL -- Data de upload da imagem\n",
    ");\n",
    "\n",
    "COMMENT ON TABLE Imagens_Criptomoedas IS 'Tabela que armazena imagens relacionadas às criptomoedas, como logos ou ícones.';\n",
    "COMMENT ON COLUMN Imagens_Criptomoedas.id_imagem IS 'Identificador único da imagem';\n",
    "COMMENT ON COLUMN Imagens_Criptomoedas.id_cripto IS 'Referência à criptomoeda correspondente';\n",
    "COMMENT ON COLUMN Imagens_Criptomoedas.tipo IS 'Tipo da imagem (ex.: logo, ícone)';\n",
    "COMMENT ON COLUMN Imagens_Criptomoedas.conteudo IS 'Conteúdo da imagem armazenado como binário';\n",
    "COMMENT ON COLUMN Imagens_Criptomoedas.data_upload IS 'Data de upload da imagem';\n",
    "\"\"\""
   ]
  },
  {
   "cell_type": "markdown",
   "metadata": {},
   "source": [
    "## Inserir Dados na Tabela Criptomoedas"
   ]
  },
  {
   "cell_type": "code",
   "execution_count": null,
   "metadata": {},
   "outputs": [],
   "source": [
    "\"\"\"INSERT INTO Criptomoedas (nome, simbolo, descricao, mercado)\n",
    "VALUES \n",
    "('Bitcoin', 'BTC', 'Primeira criptomoeda descentralizada', 'Binance'),\n",
    "('Ethereum', 'ETH', 'Plataforma de contratos inteligentes', 'Coinbase'),\n",
    "('Cardano', 'ADA', 'Criptomoeda de terceira geração focada em escalabilidade', 'Kraken'),\n",
    "('Solana', 'SOL', 'Plataforma blockchain para aplicativos descentralizados', 'Binance'),\n",
    "('Ripple', 'XRP', 'Criptomoeda para pagamentos digitais', 'Bitstamp');\n",
    "\"\"\""
   ]
  },
  {
   "cell_type": "markdown",
   "metadata": {},
   "source": [
    "## Inserir Dados na Tabela Cotações"
   ]
  },
  {
   "cell_type": "code",
   "execution_count": null,
   "metadata": {},
   "outputs": [],
   "source": [
    "\"\"\"INSERT INTO Cotações (id_cripto, data_hora, preco, volume, market_cap, variacao)\n",
    "VALUES \n",
    "(1, '2025-01-01 12:00:00', 27000.50, 1000000.00, 500000000.00, 2.5),\n",
    "(2, '2025-01-01 12:00:00', 1900.75, 500000.00, 250000000.00, -1.8),\n",
    "(3, '2025-01-01 12:00:00', 0.40, 200000.00, 12000000.00, 5.2),\n",
    "(4, '2025-01-01 12:00:00', 23.70, 300000.00, 70000000.00, -0.5),\n",
    "(5, '2025-01-01 12:00:00', 0.50, 150000.00, 20000000.00, 1.2);\n",
    "\"\"\""
   ]
  },
  {
   "cell_type": "markdown",
   "metadata": {},
   "source": [
    "## Inserir Dados na Tabela Transações_Mercado"
   ]
  },
  {
   "cell_type": "code",
   "execution_count": null,
   "metadata": {},
   "outputs": [],
   "source": [
    "\"\"\"INSERT INTO Transações_Mercado (id_cripto, data_hora, tipo, quantidade, preco_unitario)\n",
    "VALUES \n",
    "(1, '2025-01-01 12:30:00', 'Compra', 0.1, 27000.50),\n",
    "(2, '2025-01-01 13:00:00', 'Venda', 0.2, 1900.75),\n",
    "(3, '2025-01-01 13:30:00', 'Compra', 100, 0.40),\n",
    "(4, '2025-01-01 14:00:00', 'Venda', 50, 23.70),\n",
    "(5, '2025-01-01 14:30:00', 'Compra', 200, 0.50);\n",
    "\"\"\""
   ]
  },
  {
   "cell_type": "markdown",
   "metadata": {},
   "source": [
    "## Inserir Dados na Tabela Ordens"
   ]
  },
  {
   "cell_type": "code",
   "execution_count": null,
   "metadata": {},
   "outputs": [],
   "source": [
    "\"\"\"INSERT INTO Ordens (id_cripto, tipo, quantidade, preco_limite)\n",
    "VALUES \n",
    "(1, 'Compra', 0.05, 25000.00),\n",
    "(2, 'Venda', 0.10, 2000.00),\n",
    "(3, 'Compra', 200, 0.35),\n",
    "(4, 'Venda', 50, 25.00),\n",
    "(5, 'Compra', 100, 0.45);\n",
    "\"\"\""
   ]
  },
  {
   "cell_type": "markdown",
   "metadata": {},
   "source": [
    "## Inserir Dados na Tabela Tendências_Preço"
   ]
  },
  {
   "cell_type": "code",
   "execution_count": null,
   "metadata": {},
   "outputs": [],
   "source": [
    "\"\"\"INSERT INTO Tendências_Preço (id_cripto, periodo, variacao_preco, tendencia)\n",
    "VALUES \n",
    "(1, '24h', 2.5, 'Alta'),\n",
    "(2, '24h', -1.8, 'Baixa'),\n",
    "(3, '24h', 5.2, 'Alta'),\n",
    "(4, '24h', -0.5, 'Estável'),\n",
    "(5, '24h', 1.2, 'Alta');\n",
    "\"\"\""
   ]
  },
  {
   "cell_type": "markdown",
   "metadata": {},
   "source": [
    "## Inserir Dados na Tabela Dados_Externos"
   ]
  },
  {
   "cell_type": "code",
   "execution_count": null,
   "metadata": {},
   "outputs": [],
   "source": [
    "\"\"\"INSERT INTO Dados_Externos (descricao, data_hora, valor)\n",
    "VALUES \n",
    "('Taxa de juros dos EUA', '2025-01-01 09:00:00', 0.05),\n",
    "('Índice de inflação global', '2025-01-01 09:00:00', 3.2),\n",
    "('Preço do ouro', '2025-01-01 09:00:00', 1850.00),\n",
    "('Preço do barril de petróleo', '2025-01-01 09:00:00', 75.50),\n",
    "('Taxa de câmbio USD/EUR', '2025-01-01 09:00:00', 1.10);\n",
    "\"\"\""
   ]
  },
  {
   "cell_type": "markdown",
   "metadata": {},
   "source": [
    "##  Inserir Dados na Tabela Notícias"
   ]
  },
  {
   "cell_type": "code",
   "execution_count": null,
   "metadata": {},
   "outputs": [],
   "source": [
    "\"\"\"INSERT INTO Notícias (id_cripto, data_publicacao, tema, noticia, fonte)\n",
    "VALUES \n",
    "(1, '2025-01-01', 'Regulação', 'Bitcoin será regulamentado em breve.', 'CoinDesk'),\n",
    "(2, '2025-01-01', 'Adoção', 'Ethereum será aceito como pagamento em grandes varejistas.', 'Bloomberg'),\n",
    "(3, '2025-01-01', 'Tecnologia', 'Cardano anuncia atualização para maior escalabilidade.', 'CryptoNews'),\n",
    "(4, '2025-01-01', 'Desempenho', 'Solana apresenta alta no volume de transações.', 'Kraken Blog'),\n",
    "(5, '2025-01-01', 'Parceria', 'Ripple firma parceria com bancos europeus.', 'Bitstamp Insights');\n",
    "\"\"\""
   ]
  },
  {
   "cell_type": "markdown",
   "metadata": {},
   "source": [
    "## Inserir Dados na Tabela Usuários"
   ]
  },
  {
   "cell_type": "code",
   "execution_count": null,
   "metadata": {},
   "outputs": [],
   "source": [
    "\"\"\"INSERT INTO Usuarios (nome, email, senha, admin_flag)\n",
    "VALUES \n",
    "('João Silva', 'joao@gmail.com', 'senha123', TRUE),\n",
    "('Maria Oliveira', 'maria@gmail.com', 'senha123', FALSE),\n",
    "('Carlos Santos', 'carlos@gmail.com', 'senha123', FALSE),\n",
    "('Ana Costa', 'ana@gmail.com', 'senha123', FALSE),\n",
    "('Pedro Almeida', 'pedro@gmail.com', 'senha123', TRUE);\n",
    "\"\"\""
   ]
  },
  {
   "cell_type": "markdown",
   "metadata": {},
   "source": [
    "## Inserir Dados na Tabela Sentimentos_Notícias"
   ]
  },
  {
   "cell_type": "code",
   "execution_count": null,
   "metadata": {},
   "outputs": [],
   "source": [
    "\"\"\"INSERT INTO Sentimentos_Notícias (id_noticia, id_usuario, sentimento, score_sentimento)\n",
    "VALUES \n",
    "(1, 1, 'Positivo', 0.8),\n",
    "(2, 2, 'Neutro', 0.0),\n",
    "(3, 3, 'Positivo', 0.6),\n",
    "(4, 4, 'Negativo', -0.4),\n",
    "(5, 5, 'Positivo', 0.9);\n",
    "\"\"\""
   ]
  },
  {
   "cell_type": "markdown",
   "metadata": {},
   "source": [
    "## Inserir Dados na Tabela Imagens_Criptomoedas"
   ]
  },
  {
   "cell_type": "markdown",
   "metadata": {},
   "source": [
    "### Tem que inserir dados nessa tabela ainda, não sei como que faz."
   ]
  }
 ],
 "metadata": {
  "kaggle": {
   "accelerator": "none",
   "dataSources": [],
   "dockerImageVersionId": 30839,
   "isGpuEnabled": false,
   "isInternetEnabled": true,
   "language": "python",
   "sourceType": "notebook"
  },
  "kernelspec": {
   "display_name": ".venv",
   "language": "python",
   "name": "python3"
  },
  "language_info": {
   "codemirror_mode": {
    "name": "ipython",
    "version": 3
   },
   "file_extension": ".py",
   "mimetype": "text/x-python",
   "name": "python",
   "nbconvert_exporter": "python",
   "pygments_lexer": "ipython3",
   "version": "3.11.8"
  }
 },
 "nbformat": 4,
 "nbformat_minor": 4
}
